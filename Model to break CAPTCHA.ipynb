{
 "cells": [
  {
   "cell_type": "code",
   "execution_count": 1,
   "metadata": {},
   "outputs": [],
   "source": [
    "import numpy as np\n",
    "import pandas as pd\n"
   ]
  },
  {
   "cell_type": "code",
   "execution_count": 2,
   "metadata": {},
   "outputs": [
    {
     "data": {
      "text/plain": [
       "(100, 50, 200)"
      ]
     },
     "execution_count": 2,
     "metadata": {},
     "output_type": "execute_result"
    }
   ],
   "source": [
    "tdata=np.load(\"train.csv.npy\")\n",
    "tdata.shape"
   ]
  },
  {
   "cell_type": "code",
   "execution_count": 3,
   "metadata": {},
   "outputs": [
    {
     "data": {
      "text/html": [
       "<div>\n",
       "<style scoped>\n",
       "    .dataframe tbody tr th:only-of-type {\n",
       "        vertical-align: middle;\n",
       "    }\n",
       "\n",
       "    .dataframe tbody tr th {\n",
       "        vertical-align: top;\n",
       "    }\n",
       "\n",
       "    .dataframe thead th {\n",
       "        text-align: right;\n",
       "    }\n",
       "</style>\n",
       "<table border=\"1\" class=\"dataframe\">\n",
       "  <thead>\n",
       "    <tr style=\"text-align: right;\">\n",
       "      <th></th>\n",
       "      <th>images</th>\n",
       "    </tr>\n",
       "  </thead>\n",
       "  <tbody>\n",
       "    <tr>\n",
       "      <th>0</th>\n",
       "      <td>2mg87.png</td>\n",
       "    </tr>\n",
       "    <tr>\n",
       "      <th>1</th>\n",
       "      <td>4m2w5.png</td>\n",
       "    </tr>\n",
       "    <tr>\n",
       "      <th>2</th>\n",
       "      <td>3bnyf.png</td>\n",
       "    </tr>\n",
       "    <tr>\n",
       "      <th>3</th>\n",
       "      <td>3p4nn.png</td>\n",
       "    </tr>\n",
       "    <tr>\n",
       "      <th>4</th>\n",
       "      <td>5mcy7.png</td>\n",
       "    </tr>\n",
       "  </tbody>\n",
       "</table>\n",
       "</div>"
      ],
      "text/plain": [
       "      images\n",
       "0  2mg87.png\n",
       "1  4m2w5.png\n",
       "2  3bnyf.png\n",
       "3  3p4nn.png\n",
       "4  5mcy7.png"
      ]
     },
     "execution_count": 3,
     "metadata": {},
     "output_type": "execute_result"
    }
   ],
   "source": [
    "tlabels=pd.read_csv('traininglabels.csv', index_col = 0)\n",
    "tlabels.head()"
   ]
  },
  {
   "cell_type": "code",
   "execution_count": 4,
   "metadata": {},
   "outputs": [
    {
     "data": {
      "text/plain": [
       "dtype('float32')"
      ]
     },
     "execution_count": 4,
     "metadata": {},
     "output_type": "execute_result"
    }
   ],
   "source": [
    "tdata = tdata.reshape((100, 50*200))\n",
    "tdata = tdata.astype('float32') / 255\n",
    "tdata.dtype"
   ]
  },
  {
   "cell_type": "code",
   "execution_count": 5,
   "metadata": {},
   "outputs": [
    {
     "name": "stderr",
     "output_type": "stream",
     "text": [
      "/home/minnu/anaconda3/lib/python3.6/site-packages/h5py/__init__.py:36: FutureWarning: Conversion of the second argument of issubdtype from `float` to `np.floating` is deprecated. In future, it will be treated as `np.float64 == np.dtype(float).type`.\n",
      "  from ._conv import register_converters as _register_converters\n",
      "Using TensorFlow backend.\n"
     ]
    }
   ],
   "source": [
    "from keras import models\n",
    "from keras import layers"
   ]
  },
  {
   "cell_type": "code",
   "execution_count": 6,
   "metadata": {},
   "outputs": [],
   "source": [
    "network = models.Sequential()\n",
    "network.add(layers.Dense(512, activation='relu', input_shape=(50*200,)))\n",
    "network.add(layers.Dense(100, activation='softmax'))"
   ]
  },
  {
   "cell_type": "code",
   "execution_count": 7,
   "metadata": {},
   "outputs": [],
   "source": [
    "network.compile(optimizer='rmsprop',\n",
    "\n",
    "loss='sparse_categorical_crossentropy',\n",
    "metrics=['accuracy'])"
   ]
  },
  {
   "cell_type": "code",
   "execution_count": 8,
   "metadata": {},
   "outputs": [],
   "source": [
    "from sklearn import preprocessing"
   ]
  },
  {
   "cell_type": "code",
   "execution_count": 9,
   "metadata": {},
   "outputs": [],
   "source": [
    "le = preprocessing.LabelEncoder()"
   ]
  },
  {
   "cell_type": "code",
   "execution_count": 10,
   "metadata": {},
   "outputs": [
    {
     "name": "stderr",
     "output_type": "stream",
     "text": [
      "/home/minnu/anaconda3/lib/python3.6/site-packages/sklearn/preprocessing/label.py:95: DataConversionWarning: A column-vector y was passed when a 1d array was expected. Please change the shape of y to (n_samples, ), for example using ravel().\n",
      "  y = column_or_1d(y, warn=True)\n"
     ]
    },
    {
     "data": {
      "text/plain": [
       "LabelEncoder()"
      ]
     },
     "execution_count": 10,
     "metadata": {},
     "output_type": "execute_result"
    }
   ],
   "source": [
    "le.fit(tlabels)\n"
   ]
  },
  {
   "cell_type": "code",
   "execution_count": 11,
   "metadata": {},
   "outputs": [
    {
     "data": {
      "text/plain": [
       "array(['2b827.png', '2bg48.png', '2cegf.png', '2cg58.png', '2cgyx.png',\n",
       "       '2en7g.png', '2enf4.png', '2fxgd.png', '2g783.png', '2g7nm.png',\n",
       "       '2gyb6.png', '2mg87.png', '2mpnn.png', '2n73f.png', '2nbc5.jpg',\n",
       "       '2nbcx.png', '2nf26.png', '2npg6.png', '2nx38.png', '2p2y8.png',\n",
       "       '2pfpn.png', '2w4y7.png', '2wc38.png', '2wx73.png', '2x7bm.png',\n",
       "       '2xc2n.png', '2ycn8.png', '2yggg.png', '3b4we.png', '3bd8f.png',\n",
       "       '3bnfnd.png', '3bnyf.png', '3bx86.png', '3c7de.jpg', '3cpwb.png',\n",
       "       '3d7bd.png', '3den6.png', '3dgmf.png', '3ebnn.png', '3ebpw.png',\n",
       "       '3eny7.png', '3fbxd.png', '3g2w6.png', '3mxdn.png', '3n2b4.png',\n",
       "       '3n3cf.png', '3n7mx.png', '3ndxd.png', '3nfdn.png', '3nnpw.png',\n",
       "       '3nw7w.png', '3ny45.png', '3p4nn.png', '3p67n.png', '3pe4g.png',\n",
       "       '3w2bw.png', '3wnd3.png', '3x325.png', '3x5fm.png', '3xcgg.png',\n",
       "       '3xng6.png', '3ye2e.png', '3ygde.png', '3ym7f.png', '4b2pw.png',\n",
       "       '4c8n8.png', '4cfw8.png', '4cn7b.png', '4d22m.png', '4dgf7.png',\n",
       "       '4dw3w.png', '4egem.png', '4exnn.png', '4f8yp.png', '4fc36.png',\n",
       "       '4fp5g.png', '4gb3f.png', '4gycb.png', '4m2w5.png', '4n2yg.png',\n",
       "       '4n3mn.png', '4nc37.png', '4nnf3.png', '4w6mw.png', '4w76g.png',\n",
       "       '4yc85.png', '4ycex.png', '4ynf3.png', '5bb66.png', '5bg8f.png',\n",
       "       '5bgp2.png', '5bnd7.png', '5dxnm.png', '5ep3n.png', '5expp.png',\n",
       "       '5f3gf.png', '5fyem.png', '5g5e5.png', '5gcd3.png', '5mcy7.png'],\n",
       "      dtype=object)"
      ]
     },
     "execution_count": 11,
     "metadata": {},
     "output_type": "execute_result"
    }
   ],
   "source": [
    "le.classes_"
   ]
  },
  {
   "cell_type": "code",
   "execution_count": 12,
   "metadata": {},
   "outputs": [
    {
     "name": "stderr",
     "output_type": "stream",
     "text": [
      "/home/minnu/anaconda3/lib/python3.6/site-packages/sklearn/preprocessing/label.py:128: DataConversionWarning: A column-vector y was passed when a 1d array was expected. Please change the shape of y to (n_samples, ), for example using ravel().\n",
      "  y = column_or_1d(y, warn=True)\n"
     ]
    }
   ],
   "source": [
    "t_labels = le.transform(tlabels) \n"
   ]
  },
  {
   "cell_type": "code",
   "execution_count": 13,
   "metadata": {},
   "outputs": [
    {
     "name": "stdout",
     "output_type": "stream",
     "text": [
      "Epoch 1/5\n",
      "100/100 [==============================] - 1s 14ms/step - loss: 5.0889 - acc: 0.0000e+00\n",
      "Epoch 2/5\n",
      "100/100 [==============================] - 0s 1ms/step - loss: 14.7264 - acc: 0.0200\n",
      "Epoch 3/5\n",
      "100/100 [==============================] - 0s 1ms/step - loss: 15.4184 - acc: 0.0200\n",
      "Epoch 4/5\n",
      "100/100 [==============================] - 0s 1ms/step - loss: 15.6978 - acc: 0.0100\n",
      "Epoch 5/5\n",
      "100/100 [==============================] - 0s 1ms/step - loss: 15.2975 - acc: 0.0200\n"
     ]
    },
    {
     "data": {
      "text/plain": [
       "<keras.callbacks.History at 0x7ff81bfb8a20>"
      ]
     },
     "execution_count": 13,
     "metadata": {},
     "output_type": "execute_result"
    }
   ],
   "source": [
    "\n",
    "network.fit(tdata, t_labels, epochs=5, batch_size=128)"
   ]
  }
 ],
 "metadata": {
  "kernelspec": {
   "display_name": "Python 3",
   "language": "python",
   "name": "python3"
  },
  "language_info": {
   "codemirror_mode": {
    "name": "ipython",
    "version": 3
   },
   "file_extension": ".py",
   "mimetype": "text/x-python",
   "name": "python",
   "nbconvert_exporter": "python",
   "pygments_lexer": "ipython3",
   "version": "3.6.4"
  }
 },
 "nbformat": 4,
 "nbformat_minor": 2
}
